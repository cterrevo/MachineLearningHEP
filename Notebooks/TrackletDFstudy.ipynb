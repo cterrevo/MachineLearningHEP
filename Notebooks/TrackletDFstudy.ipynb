{
 "cells": [
  {
   "cell_type": "code",
   "execution_count": 3,
   "metadata": {},
   "outputs": [
    {
     "name": "stdout",
     "output_type": "stream",
     "text": [
      "Index(['is_ev_rej', 'run_number', 'ev_id', 'centrality', 'z_vtx_reco',\n",
      "       'z_vtx_gen', 'n_tracklets'],\n",
      "      dtype='object')\n"
     ]
    },
    {
     "data": {
      "image/png": "[encoded data removed]",
      "text/plain": [
       "<Figure size 720x720 with 1 Axes>"
      ]
     },
     "metadata": {
      "needs_background": "light"
     },
     "output_type": "display_data"
    },
    {
     "name": "stdout",
     "output_type": "stream",
     "text": [
      "0    3\n",
      "Name: Dmultbarrel, dtype: int64\n",
      "0    21\n",
      "Name: Dmultout, dtype: int64\n",
      "      d_len  d_len_xy   norm_dl  norm_dl_xy     cos_p  cos_p_xy  imp_par_xy  \\\n",
      "0  0.030921  0.021979  0.581299    0.299049  0.570549     0.985   -0.003793   \n",
      "\n",
      "        dca  cos_t_star  imp_par_prod  ...  z_vtx_reco  z_vtx_gen  \\\n",
      "0  0.009312    0.952954      0.000016  ...    1.772199   1.771954   \n",
      "\n",
      "   n_tracklets  isstd  ismcsignal  ismcprompt  ismcfd  ismcbkg  Dmultbarrel  \\\n",
      "0           14      0           1           1       0        0            3   \n",
      "\n",
      "   Dmultout  \n",
      "0        21  \n",
      "\n",
      "[1 rows x 41 columns]\n"
     ]
    }
   ],
   "source": [
    "import sys \n",
    "import math\n",
    "import array \n",
    "import multiprocessing as mp \n",
    "import pickle \n",
    "import os \n",
    "import random as rd \n",
    "import uproot \n",
    "import pandas as pd \n",
    "import numpy as np \n",
    "from root_numpy import fill_hist # pylint: disable=import-error, no-name-in-module \n",
    "from ROOT import TFile, TH1F, TH2F # pylint: disable=import-error, no-name-in-module \n",
    "import numba\n",
    "import matplotlib.pyplot as plt\n",
    "\n",
    "\n",
    "from machine_learning_hep.selectionutils import selectfidacc \n",
    "from machine_learning_hep.bitwise import filter_bit_df, tag_bit_df \n",
    "from machine_learning_hep.utilities import selectdfquery, selectdfrunlist, merge_method \n",
    "from machine_learning_hep.utilities import list_folders, createlist, appendmainfoldertolist \n",
    "from machine_learning_hep.utilities import create_folder_struc, seldf_singlevar, openfile \n",
    "from machine_learning_hep.models import apply # pylint: disable=import-error \n",
    "\n",
    "\n",
    "def scatterplotetaphi(arrayx, arrayy, arrayxsel, arrayysel, output, name, Deta=-1, Dphi=-1, Rcut=-1):\n",
    "    fig = plt.figure(figsize=(10,10))\n",
    "    ax = fig.add_subplot(111)\n",
    "    if Rcut is not -1:\n",
    "        circle = plt.Circle((Deta, Dphi), Rcut, color='r',fill=False)\n",
    "        ax.add_artist(circle)\n",
    "    if Deta is not -1 and Dphi is not -1:\n",
    "        plt.scatter([Deta],[Dphi], color='r')\n",
    "    plt.scatter(arrayx, arrayy, color='k')\n",
    "    plt.scatter(arrayxsel, arrayysel, color='b')\n",
    "    plt.title('A title for this plot') \n",
    "\n",
    "    plt.xlabel(\"eta\")\n",
    "    plt.ylabel(\"phi\")\n",
    "    plt.xlim(-2,  2)\n",
    "    plt.ylim(-0.5, 9)\n",
    "    ax.text(-1.7, 8, \"mult barrel %d\" % len(arrayxsel), fontsize=20)\n",
    "    ax.text(-1.7, 8.4, \"mult tot %d\" % len(arrayx), fontsize=20)\n",
    "    ax.text(-1.7, 8.4, \"mult tot %d\" % len(arrayx), fontsize=20, color=\"r\")\n",
    "    plt.show()\n",
    "    plt.savefig(output+\"/\"+name+\".png\")\n",
    "    plt.close()\n",
    "\n",
    "dfreco = pickle.load(openfile(\"../machine_learning_hep/mcpklLHC18bdefghijklmnop/child_1/0002/AnalysisResultsReco.pkl.lz4\", \"rb\"))\n",
    "dftrkl = pickle.load(openfile(\"../machine_learning_hep/mcpklLHC18bdefghijklmnop/child_1/0002/AnalysisResultsTrkl.pkl.lz4\", \"rb\"))\n",
    "dfevt = pickle.load(openfile(\"../machine_learning_hep/mcpklLHC18bdefghijklmnop/child_1/0002/AnalysisResultsEvt.pkl.lz4\", \"rb\"))\n",
    "\n",
    "dfrecogrouped = dfreco.groupby([\"ev_id\",\"run_number\"])\n",
    "dftrklgrouped = dftrkl.groupby([\"ev_id\",\"run_number\"])\n",
    "\n",
    "dfreco_mult = pd.DataFrame()\n",
    "\n",
    "counterev = 0\n",
    "Rcut = 1.0\n",
    "for keys, df in dfrecogrouped:\n",
    "    if counterev > 0:\n",
    "        break\n",
    "    trkl_evt = dftrklgrouped.get_group((keys[0],keys[1]))\n",
    "    Detalist = df[\"eta_cand\"].values\n",
    "    Dphilist = df[\"phi_cand\"].values\n",
    "\n",
    "    trkletalist = trkl_evt[\"TrackletEta\"].values\n",
    "    trklphilist = trkl_evt[\"TrackletPhi\"].values\n",
    "    Dmultbarrellist = []\n",
    "    Dmultoutlist = []\n",
    "\n",
    "    for i, _ in enumerate(Detalist):\n",
    "        Deta = Detalist[i]\n",
    "        Dphi = Dphilist[i]\n",
    "        \n",
    "        arrayRtrkl = [math.sqrt((Deta-trkleta)*(Deta-trkleta) + (Dphi-trklphi)*(Dphi-trklphi)) \\\n",
    "                      for trkleta, trklphi in zip(trkletalist, trklphilist)]        \n",
    "        trkl_evt[\"Rvalue\"] = pd.Series(arrayRtrkl, index = trkl_evt.index)\n",
    "        trkl_evt_bar = trkl_evt[trkl_evt[\"Rvalue\"]<Rcut]\n",
    "        trkl_evt_out = trkl_evt[trkl_evt[\"Rvalue\"]>Rcut]\n",
    "        \n",
    "        scatterplotetaphi(trkl_evt[\"TrackletEta\"], trkl_evt[\"TrackletPhi\"],\n",
    "                    trkl_evt_out[\"TrackletEta\"], trkl_evt_out[\"TrackletPhi\"], \n",
    "                    \"plot\", \"%d_tracklets_event_barrel\" % counterev, Deta, Dphi, Rcut)\n",
    "\n",
    "        Dmultbarrel = len([R for R in arrayRtrkl if R<Rcut])\n",
    "        Dmultout = len([R for R in arrayRtrkl if R>Rcut])\n",
    "        Dmultbarrellist.append(Dmultbarrel)\n",
    "        Dmultoutlist.append(Dmultout)\n",
    "\n",
    "    df[\"Dmultbarrel\"]= pd.Series(Dmultbarrellist, index=df.index)\n",
    "    df[\"Dmultout\"]= pd.Series(Dmultoutlist, index=df.index)\n",
    "    dfreco_mult = pd.concat([dfreco_mult, df], axis = 0)\n",
    "    counterev = counterev + 1\n",
    "\n",
    "print(dfreco_mult[\"Dmultbarrel\"])\n",
    "print(dfreco_mult[\"Dmultout\"])\n",
    "print(dfreco_mult)"
   ]
  },
  {
   "cell_type": "code",
   "execution_count": null,
   "metadata": {},
   "outputs": [],
   "source": []
  }
 ],
 "metadata": {
  "kernelspec": {
   "display_name": "Python 3",
   "language": "python",
   "name": "python3"
  },
  "language_info": {
   "codemirror_mode": {
    "name": "ipython",
    "version": 3
   },
   "file_extension": ".py",
   "mimetype": "text/x-python",
   "name": "python",
   "nbconvert_exporter": "python",
   "pygments_lexer": "ipython3",
   "version": "3.6.7"
  }
 },
 "nbformat": 4,
 "nbformat_minor": 4
}
